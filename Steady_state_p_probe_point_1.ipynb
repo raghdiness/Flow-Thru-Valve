{
  "nbformat": 4,
  "nbformat_minor": 0,
  "metadata": {
    "colab": {
      "provenance": [],
      "authorship_tag": "ABX9TyMZ6NKpvMbH5dJFrRylBtCq",
      "include_colab_link": true
    },
    "kernelspec": {
      "name": "python3",
      "display_name": "Python 3"
    },
    "language_info": {
      "name": "python"
    }
  },
  "cells": [
    {
      "cell_type": "markdown",
      "metadata": {
        "id": "view-in-github",
        "colab_type": "text"
      },
      "source": [
        "<a href=\"https://colab.research.google.com/github/raghdiness/Flow-Thru-Valve/blob/main/Steady_state_p_probe_point_1.ipynb\" target=\"_parent\"><img src=\"https://colab.research.google.com/assets/colab-badge.svg\" alt=\"Open In Colab\"/></a>"
      ]
    },
    {
      "cell_type": "code",
      "execution_count": 5,
      "metadata": {
        "id": "Y6S2-MHaIrz0",
        "colab": {
          "base_uri": "https://localhost:8080/"
        },
        "outputId": "373974c1-ceec-458f-be63-e40c962bd498"
      },
      "outputs": [
        {
          "output_type": "stream",
          "name": "stdout",
          "text": [
            "Drive already mounted at /content/drive; to attempt to forcibly remount, call drive.mount(\"/content/drive\", force_remount=True).\n",
            "Steady inlet pressure (Pa) ≈ 8273.320\n"
          ]
        }
      ],
      "source": [
        "import pandas as pd\n",
        "from google.colab import drive\n",
        "drive.mount('/content/drive')\n",
        "\n",
        "# load a probe CSV\n",
        "path = \"/content/drive/MyDrive/CFD/Flow through a valve CFD/Pin_10000/Pressure/p_Pin_10000_probe point 1.csv\"\n",
        "df = pd.read_csv(path, sep=None, engine=\"python\")\n",
        "# Your columns are ['Time (s)', 'Inlet']\n",
        "df = df.rename(columns={\"Time (s)\":\"time\", \"Inlet\":\"p_in\"})\n",
        "# take steady tail\n",
        "N = min(20, len(df))\n",
        "p_in_steady = df.tail(N)[\"p_in\"].mean()\n",
        "print(f\"Steady inlet pressure (Pa) ≈ {p_in_steady:.3f}\")\n"
      ]
    },
    {
      "cell_type": "code",
      "source": [
        "import numpy as np\n",
        "# edit these\n",
        "U_ref = 1.5  # m/s, your reference velocity-inlet run\n",
        "Δp_ref = float(p_in_steady)  # Pa, from step 1\n",
        "targets = [0.5, 1.0, 1.5, 2.0]  # m/s\n",
        "\n",
        "def dp_for(U, Uref=U_ref, dpref=Δp_ref, exponent=2.0):\n",
        "    return dpref * (U / Uref)**exponent\n",
        "\n",
        "table = [(U, dp_for(U)) for U in targets]\n",
        "print(\"Target pressure inlet values (gauge):\")\n",
        "for U, dp in table:\n",
        "    print(f\"U_target = {U:>4.1f} m/s  ->  set Pressure inlet = {dp:>10.2f} Pa\")\n"
      ],
      "metadata": {
        "colab": {
          "base_uri": "https://localhost:8080/"
        },
        "id": "jeF0rzkbOB52",
        "outputId": "4c383127-79e6-49b9-e390-5438f9945ae5"
      },
      "execution_count": 6,
      "outputs": [
        {
          "output_type": "stream",
          "name": "stdout",
          "text": [
            "Target pressure inlet values (gauge):\n",
            "U_target =  0.5 m/s  ->  set Pressure inlet =     919.26 Pa\n",
            "U_target =  1.0 m/s  ->  set Pressure inlet =    3677.03 Pa\n",
            "U_target =  1.5 m/s  ->  set Pressure inlet =    8273.32 Pa\n",
            "U_target =  2.0 m/s  ->  set Pressure inlet =   14708.12 Pa\n"
          ]
        }
      ]
    },
    {
      "cell_type": "code",
      "source": [
        "rho = 998.2      # kg/m^3, water ~20 C\n",
        "mu  = 1.003e-3   # Pa·s\n",
        "D   = 0.20       # m, pipe diameter (edit to yours)\n",
        "\n",
        "def reynolds(U): return rho*U*D/mu\n",
        "\n",
        "for U, dp in table:\n",
        "    Re = reynolds(U)\n",
        "    regime = \"laminar\" if Re < 2300 else (\"transitional\" if Re < 4000 else \"turbulent\")\n",
        "    print(f\"U={U:>4.1f} m/s -> Re≈{Re:>8.0f} ({regime})\")\n"
      ],
      "metadata": {
        "colab": {
          "base_uri": "https://localhost:8080/"
        },
        "id": "_cKYiLerZ-Ed",
        "outputId": "db37a318-99d8-46f9-9a4f-4d5e4404f0dc"
      },
      "execution_count": 7,
      "outputs": [
        {
          "output_type": "stream",
          "name": "stdout",
          "text": [
            "U= 0.5 m/s -> Re≈   99521 (turbulent)\n",
            "U= 1.0 m/s -> Re≈  199043 (turbulent)\n",
            "U= 1.5 m/s -> Re≈  298564 (turbulent)\n",
            "U= 2.0 m/s -> Re≈  398086 (turbulent)\n"
          ]
        }
      ]
    },
    {
      "cell_type": "code",
      "source": [],
      "metadata": {
        "id": "mTjqUHdPhHjR"
      },
      "execution_count": null,
      "outputs": []
    }
  ]
}