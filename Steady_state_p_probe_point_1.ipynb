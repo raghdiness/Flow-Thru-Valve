{
  "nbformat": 4,
  "nbformat_minor": 0,
  "metadata": {
    "colab": {
      "provenance": [],
      "authorship_tag": "ABX9TyOU2pyhYBfKmPDiJCegYZu5",
      "include_colab_link": true
    },
    "kernelspec": {
      "name": "python3",
      "display_name": "Python 3"
    },
    "language_info": {
      "name": "python"
    }
  },
  "cells": [
    {
      "cell_type": "markdown",
      "metadata": {
        "id": "view-in-github",
        "colab_type": "text"
      },
      "source": [
        "<a href=\"https://colab.research.google.com/github/raghdiness/Flow-Thru-Valve/blob/main/Steady_state_p_probe_point_1.ipynb\" target=\"_parent\"><img src=\"https://colab.research.google.com/assets/colab-badge.svg\" alt=\"Open In Colab\"/></a>"
      ]
    },
    {
      "cell_type": "code",
      "execution_count": 4,
      "metadata": {
        "id": "Y6S2-MHaIrz0",
        "colab": {
          "base_uri": "https://localhost:8080/"
        },
        "outputId": "d69c4a4d-1e3f-4fb9-cf7d-bfc8370ceafe"
      },
      "outputs": [
        {
          "output_type": "stream",
          "name": "stdout",
          "text": [
            "Drive already mounted at /content/drive; to attempt to forcibly remount, call drive.mount(\"/content/drive\", force_remount=True).\n",
            "Columns: ['Time (s)', 'Inlet']\n",
            "   Time (s)        Inlet\n",
            "0         1  2987.113410\n",
            "1         2  5091.148368\n",
            "2         3  6565.645493\n",
            "3         4  7595.603680\n",
            "4         5  8311.826152\n"
          ]
        }
      ],
      "source": [
        "import pandas as pd\n",
        "from google.colab import drive\n",
        "drive.mount('/content/drive')\n",
        "\n",
        "# load a probe CSV\n",
        "path = \"/content/drive/MyDrive/CFD/Flow through a valve CFD/Pin_10000/Pressure/p_Pin_10000_probe point 1.csv\"\n",
        "df = pd.read_csv(path)\n",
        "\n",
        "\n",
        "print(\"Columns:\", list(df.columns))\n",
        "print(df.head())\n"
      ]
    },
    {
      "cell_type": "code",
      "source": [],
      "metadata": {
        "id": "jeF0rzkbOB52"
      },
      "execution_count": null,
      "outputs": []
    }
  ]
}