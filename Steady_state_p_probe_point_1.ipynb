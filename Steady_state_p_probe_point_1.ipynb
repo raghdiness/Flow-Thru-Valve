{
  "nbformat": 4,
  "nbformat_minor": 0,
  "metadata": {
    "colab": {
      "provenance": [],
      "authorship_tag": "ABX9TyN5pVi4r5j2L3LuhQ/NDbB7",
      "include_colab_link": true
    },
    "kernelspec": {
      "name": "python3",
      "display_name": "Python 3"
    },
    "language_info": {
      "name": "python"
    }
  },
  "cells": [
    {
      "cell_type": "markdown",
      "metadata": {
        "id": "view-in-github",
        "colab_type": "text"
      },
      "source": [
        "<a href=\"https://colab.research.google.com/github/raghdiness/Flow-Thru-Valve/blob/main/Steady_state_p_probe_point_1.ipynb\" target=\"_parent\"><img src=\"https://colab.research.google.com/assets/colab-badge.svg\" alt=\"Open In Colab\"/></a>"
      ]
    },
    {
      "cell_type": "code",
      "execution_count": 5,
      "metadata": {
        "id": "Y6S2-MHaIrz0",
        "colab": {
          "base_uri": "https://localhost:8080/"
        },
        "outputId": "373974c1-ceec-458f-be63-e40c962bd498"
      },
      "outputs": [
        {
          "output_type": "stream",
          "name": "stdout",
          "text": [
            "Drive already mounted at /content/drive; to attempt to forcibly remount, call drive.mount(\"/content/drive\", force_remount=True).\n",
            "Steady inlet pressure (Pa) ≈ 8273.320\n"
          ]
        }
      ],
      "source": [
        "import pandas as pd\n",
        "from google.colab import drive\n",
        "drive.mount('/content/drive')\n",
        "\n",
        "# load a probe CSV\n",
        "path = \"/content/drive/MyDrive/CFD/Flow through a valve CFD/Pin_10000/Pressure/p_Pin_10000_probe point 1.csv\"\n",
        "df = pd.read_csv(path, sep=None, engine=\"python\")\n",
        "# Your columns are ['Time (s)', 'Inlet']\n",
        "df = df.rename(columns={\"Time (s)\":\"time\", \"Inlet\":\"p_in\"})\n",
        "# take steady tail\n",
        "N = min(20, len(df))\n",
        "p_in_steady = df.tail(N)[\"p_in\"].mean()\n",
        "print(f\"Steady inlet pressure (Pa) ≈ {p_in_steady:.3f}\")\n"
      ]
    },
    {
      "cell_type": "code",
      "source": [],
      "metadata": {
        "id": "jeF0rzkbOB52"
      },
      "execution_count": null,
      "outputs": []
    }
  ]
}