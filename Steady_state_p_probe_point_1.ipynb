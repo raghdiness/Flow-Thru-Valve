{
  "nbformat": 4,
  "nbformat_minor": 0,
  "metadata": {
    "colab": {
      "provenance": [],
      "authorship_tag": "ABX9TyOafAkcev62tk+JK8a6mHXL",
      "include_colab_link": true
    },
    "kernelspec": {
      "name": "python3",
      "display_name": "Python 3"
    },
    "language_info": {
      "name": "python"
    }
  },
  "cells": [
    {
      "cell_type": "markdown",
      "metadata": {
        "id": "view-in-github",
        "colab_type": "text"
      },
      "source": [
        "<a href=\"https://colab.research.google.com/github/raghdiness/Flow-Thru-Valve/blob/main/Steady_state_p_probe_point_1.ipynb\" target=\"_parent\"><img src=\"https://colab.research.google.com/assets/colab-badge.svg\" alt=\"Open In Colab\"/></a>"
      ]
    },
    {
      "cell_type": "code",
      "execution_count": 2,
      "metadata": {
        "id": "Y6S2-MHaIrz0",
        "colab": {
          "base_uri": "https://localhost:8080/"
        },
        "outputId": "658b3354-8d78-48bc-95fd-8e2d0230a32a"
      },
      "outputs": [
        {
          "output_type": "stream",
          "name": "stdout",
          "text": [
            "Mounted at /content/drive\n",
            "Steady inlet pressure (Pa) ≈ 8273.320\n"
          ]
        }
      ],
      "source": [
        "import pandas as pd\n",
        "from google.colab import drive\n",
        "drive.mount('/content/drive')\n",
        "\n",
        "# load a probe CSV\n",
        "path = \"/content/drive/MyDrive/CFD/Flow through a valve CFD/Pin_10000/Pressure/p_Pin_10000_probe point 1.csv\"\n",
        "df = pd.read_csv(path, sep=None, engine=\"python\")\n",
        "# Your columns are ['Time (s)', 'Inlet']\n",
        "df = df.rename(columns={\"Time (s)\":\"time\", \"Inlet\":\"p_in\"})\n",
        "# take steady tail\n",
        "N = min(20, len(df))\n",
        "p_in_steady = df.tail(N)[\"p_in\"].mean()\n",
        "print(f\"Steady inlet pressure (Pa) ≈ {p_in_steady:.3f}\")\n"
      ]
    },
    {
      "cell_type": "code",
      "source": [
        "import numpy as np\n",
        "# edit these\n",
        "U_ref = 2  # m/s, your reference velocity-inlet run\n",
        "Δp_ref = float(p_in_steady)  # Pa, from step 1\n",
        "targets = [0.5, 1.0, 1.5, 2.0]  # m/s\n",
        "\n",
        "def dp_for(U, Uref=U_ref, dpref=Δp_ref, exponent=2.0):\n",
        "    return dpref * (U / Uref)**exponent\n",
        "\n",
        "table = [(U, dp_for(U)) for U in targets]\n",
        "print(\"Target pressure inlet values (gauge):\")\n",
        "for U, dp in table:\n",
        "    print(f\"U_target = {U:>4.1f} m/s  ->  set Pressure inlet = {dp:>10.2f} Pa\")\n"
      ],
      "metadata": {
        "colab": {
          "base_uri": "https://localhost:8080/"
        },
        "id": "jeF0rzkbOB52",
        "outputId": "1c1779ca-2272-4dfd-e752-a3c1f0c768d6"
      },
      "execution_count": 3,
      "outputs": [
        {
          "output_type": "stream",
          "name": "stdout",
          "text": [
            "Target pressure inlet values (gauge):\n",
            "U_target =  0.5 m/s  ->  set Pressure inlet =     517.08 Pa\n",
            "U_target =  1.0 m/s  ->  set Pressure inlet =    2068.33 Pa\n",
            "U_target =  1.5 m/s  ->  set Pressure inlet =    4653.74 Pa\n",
            "U_target =  2.0 m/s  ->  set Pressure inlet =    8273.32 Pa\n"
          ]
        }
      ]
    },
    {
      "cell_type": "code",
      "source": [
        "rho = 998.2      # kg/m^3, water ~20 C\n",
        "mu  = 1.003e-3   # Pa·s\n",
        "D   = 0.20       # m, pipe diameter (edit to yours)\n",
        "\n",
        "def reynolds(U): return rho*U*D/mu\n",
        "\n",
        "for U, dp in table:\n",
        "    Re = reynolds(U)\n",
        "    regime = \"laminar\" if Re < 2300 else (\"transitional\" if Re < 4000 else \"turbulent\")\n",
        "    print(f\"U={U:>4.1f} m/s -> Re≈{Re:>8.0f} ({regime})\")\n"
      ],
      "metadata": {
        "colab": {
          "base_uri": "https://localhost:8080/"
        },
        "id": "_cKYiLerZ-Ed",
        "outputId": "d7906816-959e-4f81-f764-9aa4f8b6a403"
      },
      "execution_count": 4,
      "outputs": [
        {
          "output_type": "stream",
          "name": "stdout",
          "text": [
            "U= 0.5 m/s -> Re≈   99521 (turbulent)\n",
            "U= 1.0 m/s -> Re≈  199043 (turbulent)\n",
            "U= 1.5 m/s -> Re≈  298564 (turbulent)\n",
            "U= 2.0 m/s -> Re≈  398086 (turbulent)\n"
          ]
        }
      ]
    },
    {
      "cell_type": "code",
      "source": [],
      "metadata": {
        "id": "mTjqUHdPhHjR"
      },
      "execution_count": null,
      "outputs": []
    }
  ]
}